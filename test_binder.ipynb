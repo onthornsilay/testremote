{
 "cells": [
  {
   "cell_type": "code",
   "execution_count": 1,
   "metadata": {},
   "outputs": [
    {
     "ename": "AttributeError",
     "evalue": "'float' object has no attribute 'backward'",
     "output_type": "error",
     "traceback": [
      "\u001b[1;31m---------------------------------------------------------------------------\u001b[0m",
      "\u001b[1;31mAttributeError\u001b[0m                            Traceback (most recent call last)",
      "\u001b[1;32m<ipython-input-1-113dc786daa6>\u001b[0m in \u001b[0;36m<module>\u001b[1;34m\u001b[0m\n\u001b[0;32m     62\u001b[0m \u001b[1;33m\u001b[0m\u001b[0m\n\u001b[0;32m     63\u001b[0m \u001b[0mTree\u001b[0m\u001b[1;33m(\u001b[0m\u001b[1;36m60\u001b[0m\u001b[1;33m,\u001b[0m \u001b[0mt\u001b[0m\u001b[1;33m)\u001b[0m\u001b[1;33m\u001b[0m\u001b[1;33m\u001b[0m\u001b[0m\n\u001b[1;32m---> 64\u001b[1;33m \u001b[0mPetal\u001b[0m\u001b[1;33m(\u001b[0m\u001b[1;36m200\u001b[0m\u001b[1;33m,\u001b[0m \u001b[0mt\u001b[0m\u001b[1;33m)\u001b[0m\u001b[1;33m\u001b[0m\u001b[1;33m\u001b[0m\u001b[0m\n\u001b[0m\u001b[0;32m     65\u001b[0m \u001b[0mw\u001b[0m\u001b[1;33m.\u001b[0m\u001b[0mexitonclick\u001b[0m\u001b[1;33m(\u001b[0m\u001b[1;33m)\u001b[0m\u001b[1;33m\u001b[0m\u001b[1;33m\u001b[0m\u001b[0m\n",
      "\u001b[1;32m<ipython-input-1-113dc786daa6>\u001b[0m in \u001b[0;36mPetal\u001b[1;34m(m, t)\u001b[0m\n\u001b[0;32m     45\u001b[0m         \u001b[0mt\u001b[0m\u001b[1;33m.\u001b[0m\u001b[0mcircle\u001b[0m\u001b[1;33m(\u001b[0m\u001b[1;36m1\u001b[0m\u001b[1;33m)\u001b[0m\u001b[1;33m\u001b[0m\u001b[1;33m\u001b[0m\u001b[0m\n\u001b[0;32m     46\u001b[0m         \u001b[0mt\u001b[0m\u001b[1;33m.\u001b[0m\u001b[0mup\u001b[0m\u001b[1;33m(\u001b[0m\u001b[1;33m)\u001b[0m\u001b[1;33m\u001b[0m\u001b[1;33m\u001b[0m\u001b[0m\n\u001b[1;32m---> 47\u001b[1;33m         \u001b[0mb\u001b[0m\u001b[1;33m.\u001b[0m\u001b[0mbackward\u001b[0m\u001b[1;33m(\u001b[0m\u001b[0ma\u001b[0m\u001b[1;33m)\u001b[0m\u001b[1;33m\u001b[0m\u001b[1;33m\u001b[0m\u001b[0m\n\u001b[0m\u001b[0;32m     48\u001b[0m         \u001b[0mt\u001b[0m\u001b[1;33m.\u001b[0m\u001b[0mright\u001b[0m\u001b[1;33m(\u001b[0m\u001b[1;36m90\u001b[0m\u001b[1;33m)\u001b[0m\u001b[1;33m\u001b[0m\u001b[1;33m\u001b[0m\u001b[0m\n\u001b[0;32m     49\u001b[0m         \u001b[0mt\u001b[0m\u001b[1;33m.\u001b[0m\u001b[0mbackward\u001b[0m\u001b[1;33m(\u001b[0m\u001b[0mb\u001b[0m\u001b[1;33m)\u001b[0m\u001b[1;33m\u001b[0m\u001b[1;33m\u001b[0m\u001b[0m\n",
      "\u001b[1;31mAttributeError\u001b[0m: 'float' object has no attribute 'backward'"
     ]
    }
   ],
   "source": [
    "import turtle as T\n",
    "import random \n",
    "import time\n",
    "\n",
    "def Tree(branch,t):\n",
    "    time.sleep(0.0005)\n",
    "    if branch > 3:\n",
    "        if 8 <= branch <= 12:\n",
    "            if random.randint(0, 2) == 0:\n",
    "                t.color('snow')\n",
    "            else:\n",
    "                t.color('lightcoral')\n",
    "            t.pensize(branch / 3)\n",
    "        elif branch < 8:\n",
    "            if random.randint(0,1) == 0:\n",
    "                t.color('snow')\n",
    "            else:\n",
    "                t.color('lightcoral')\n",
    "            t.pensize(branch / 2)\n",
    "        else:\n",
    "            t.color('sienna')\n",
    "            t.pensize(branch / 10)\n",
    "        t.forward(branch)\n",
    "        a = 1.5 * random.random()\n",
    "        t.right(20 * a)\n",
    "        b = 1.5 * random.random()\n",
    "        Tree(branch - 10 * b, t)\n",
    "        t.left(40 * a)\n",
    "        Tree(branch - 10 * b, t)\n",
    "        t.right(20 * a)\n",
    "        t.up()\n",
    "        t.backward(branch)\n",
    "        t.down()\n",
    "\n",
    "def Petal(m, t):\n",
    "    for i in range(m):\n",
    "        a = 200 - 400 * random.random()\n",
    "        b = 10 - 20 * random.random()\n",
    "        t.up()\n",
    "        t.forward(b)\n",
    "        t.left(90)\n",
    "        t.forward(a)\n",
    "        t.down()\n",
    "        t.color('lightcoral')\n",
    "        t.circle(1)\n",
    "        t.up()\n",
    "        b.backward(a)\n",
    "        t.right(90)\n",
    "        t.backward(b)\n",
    "        \n",
    "t = T.Turtle()\n",
    "\n",
    "w = T.Screen()\n",
    "t.hideturtle()\n",
    "t.getscreen().tracer(5, 0)\n",
    "w.screensize(bg='wheat')\n",
    "t.left(90)\n",
    "t.up()\n",
    "t.backward(150)\n",
    "t.down()\n",
    "t.color('sienna')\n",
    "\n",
    "Tree(60, t)\n",
    "Petal(200, t)\n",
    "w.exitonclick()"
   ]
  },
  {
   "cell_type": "code",
   "execution_count": null,
   "metadata": {},
   "outputs": [],
   "source": []
  }
 ],
 "metadata": {
  "kernelspec": {
   "display_name": "Python 3",
   "language": "python",
   "name": "python3"
  },
  "language_info": {
   "codemirror_mode": {
    "name": "ipython",
    "version": 3
   },
   "file_extension": ".py",
   "mimetype": "text/x-python",
   "name": "python",
   "nbconvert_exporter": "python",
   "pygments_lexer": "ipython3",
   "version": "3.7.4"
  }
 },
 "nbformat": 4,
 "nbformat_minor": 2
}
